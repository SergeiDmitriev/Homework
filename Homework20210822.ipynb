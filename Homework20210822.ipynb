{
 "cells": [
  {
   "cell_type": "code",
   "execution_count": 13,
   "id": "26300d85",
   "metadata": {},
   "outputs": [
    {
     "name": "stdout",
     "output_type": "stream",
     "text": [
      "25\n",
      "<class 'int'>\n",
      "['2', '5']\n",
      "<class 'list'>\n",
      "25\n",
      "<class 'str'>\n"
     ]
    }
   ],
   "source": [
    "class Converter:\n",
    "    def __init__(self, arbitrary_data, default=None):\n",
    "        self.arbitrary_data = arbitrary_data\n",
    "        self.default = default\n",
    "        \n",
    "    def to_int(self):\n",
    "        try:\n",
    "            a  = int(self.arbitrary_data)\n",
    "            print(a)\n",
    "            print(type(a))\n",
    "        except:\n",
    "            print(self.default)\n",
    "            \n",
    "    def to_list(self):\n",
    "        a = list(self.arbitrary_data)\n",
    "        print(a)\n",
    "        print(type(a))\n",
    "        \n",
    "    def to_string(self):\n",
    "        a = str(self.arbitrary_data)\n",
    "        print(a)\n",
    "        print(type(a))\n",
    "        \n",
    "c1 = Converter(\"25\")\n",
    "c1.to_int()\n",
    "c1.to_list()\n",
    "c1.to_string()"
   ]
  },
  {
   "cell_type": "code",
   "execution_count": 28,
   "id": "41a01cd8",
   "metadata": {},
   "outputs": [
    {
     "name": "stdout",
     "output_type": "stream",
     "text": [
      "Ethan Hunt has a salary: 3000\n",
      "Ethan Hunt has a salary for 8 months: 24000\n",
      "\n",
      "\n",
      "James Bond has a salary for 12 months with a bonus 30%: 10800.0\n"
     ]
    }
   ],
   "source": [
    "class Employee:\n",
    "    def __init__(self, name, surname, salary):\n",
    "        self.name = name\n",
    "        self.surname = surname\n",
    "        self.salary = salary\n",
    "        \n",
    "    def print_info(self):\n",
    "        print(f\"{self.name} {self.surname} has a salary: {self.salary}\")\n",
    "        \n",
    "    def get_salary_months(self, number_months):\n",
    "        print(f\"{self.name} {self.surname} has a salary for {number_months} months: {self.salary*number_months}\")\n",
    "\n",
    "class Manager(Employee):\n",
    "    def __init__(self, name, surname, salary, department):\n",
    "        super().__init__(name, surname, salary)\n",
    "        self.department = department\n",
    "        \n",
    "    def print_info(self):\n",
    "        print(f\"Manager's department is {self.department}\")\n",
    "        \n",
    "    def get_salary_with_bonus(self, bonus, months_salary=False, number_months=0):\n",
    "        salary = self.salary*number_months if months_salary else self.salary\n",
    "        salary_with_bonus = round(salary*bonus/100, 2)\n",
    "        \n",
    "        print(f\"{self.name} {self.surname} has a salary\" + (f\" for {number_months} months\" if months_salary else \"\") + f\" with a bonus {bonus}%: {salary_with_bonus}\")\n",
    "\n",
    "ethan = Employee(\"Ethan\", \"Hunt\", 3000)\n",
    "ethan.print_info()\n",
    "ethan.get_salary_months(8)\n",
    "\n",
    "print(\"\\n\")\n",
    "james = Manager(\"James\", \"Bond\", 3000, \"UK\")\n",
    "james.get_salary_with_bonus(30, True, 12)"
   ]
  }
 ],
 "metadata": {
  "kernelspec": {
   "display_name": "Python 3 (ipykernel)",
   "language": "python",
   "name": "python3"
  },
  "language_info": {
   "codemirror_mode": {
    "name": "ipython",
    "version": 3
   },
   "file_extension": ".py",
   "mimetype": "text/x-python",
   "name": "python",
   "nbconvert_exporter": "python",
   "pygments_lexer": "ipython3",
   "version": "3.9.5"
  }
 },
 "nbformat": 4,
 "nbformat_minor": 5
}
