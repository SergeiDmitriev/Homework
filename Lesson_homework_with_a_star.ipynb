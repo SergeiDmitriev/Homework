{
 "cells": [
  {
   "cell_type": "code",
   "execution_count": 7,
   "id": "900c382a",
   "metadata": {},
   "outputs": [
    {
     "name": "stdout",
     "output_type": "stream",
     "text": [
      "Введите имя и фамилию через пробел: Вова рудников\n",
      "Привет, Вова. Твой логин в нашей системе вова_рудников\n",
      "\n",
      "\n",
      "{'вова_рудников': {'name': 'Вова', 'surname': 'Рудников'}}\n"
     ]
    }
   ],
   "source": [
    "start_str = input(\"Введите имя и фамилию через пробел: \")\n",
    "\n",
    "name, surname = start_str.split(\" \")\n",
    "\n",
    "name = name.lower().capitalize()\n",
    "surname = surname.lower().capitalize()\n",
    "\n",
    "user_name = f\"{name.lower()}_{surname.lower()}\"\n",
    "\n",
    "print(f\"Привет, {name}. Твой логин в нашей системе {user_name}\")\n",
    "\n",
    "users = {user_name: {\"name\": name, \"surname\": surname}}\n",
    "\n",
    "print(\"\\n\")\n",
    "print(users)"
   ]
  },
  {
   "cell_type": "code",
   "execution_count": 6,
   "id": "837a9895",
   "metadata": {},
   "outputs": [
    {
     "name": "stdout",
     "output_type": "stream",
     "text": [
      "Вы уже зарегистрированы? Да, Нет: нет\n",
      "Желаете зарегистрироваться? Да, Нет: да\n",
      "Введите имя и фамилию через пробел: Сергей дмитриев\n",
      "Приветствую Сергей, ваш логин - сергей_дмитриев!\n",
      "Вы уже зарегистрированы? Да, Нет: да\n",
      "Введите логин: сергей_дмитриев\n",
      "Привет, Сергей Дмитриев. Давно вас не было!\n",
      "Вы уже зарегистрированы? Да, Нет: нет\n",
      "Желаете зарегистрироваться? Да, Нет: нет\n",
      "Всего хорошего!\n"
     ]
    }
   ],
   "source": [
    "def user_registration(users):\n",
    "    question = input(\"Желаете зарегистрироваться? Да, Нет: \")\n",
    "    if question.lower() == \"да\":\n",
    "        start_str = input(\"Введите имя и фамилию через пробел: \")\n",
    "        user_name, name, surname = data_preparation(start_str)\n",
    "            \n",
    "        users[user_name] = {\"name\": name, \"surname\": surname}\n",
    "        print(f\"Приветствую {name}, ваш логин - {user_name}!\")\n",
    "    else:\n",
    "        print(f\"Всего хорошего!\")\n",
    "            \n",
    "            \n",
    "def data_preparation(start_str):\n",
    "    name, surname = start_str.split(\" \")\n",
    "\n",
    "    name = name.lower().capitalize()\n",
    "    surname = surname.lower().capitalize()\n",
    "\n",
    "    user_name = f\"{name.lower()}_{surname.lower()}\"\n",
    "\n",
    "    return user_name, name, surname\n",
    "\n",
    "# start_str = input(\"Введите имя и фамилию через пробел: \")\n",
    "# user_name, name, surname = user_registration(start_str)\n",
    "\n",
    "users = {}\n",
    "for i in range(3):\n",
    "    question_start = input(\"Вы уже зарегистрированы? Да, Нет: \")\n",
    "    if question_start.lower() == \"да\":\n",
    "        start_str = input(\"Введите логин: \")\n",
    "        user = users.get(start_str, None)\n",
    "        if user:\n",
    "            name = user[\"name\"]\n",
    "            surname = user[\"surname\"]\n",
    "            print(f\"Привет, {name} {surname}. Давно вас не было!\")\n",
    "        else:\n",
    "            print(\"Пользователя с таким логином не существует!\")\n",
    "            user_registration(users)\n",
    "            \n",
    "    else:\n",
    "        user_registration(users)"
   ]
  }
 ],
 "metadata": {
  "kernelspec": {
   "display_name": "Python 3 (ipykernel)",
   "language": "python",
   "name": "python3"
  },
  "language_info": {
   "codemirror_mode": {
    "name": "ipython",
    "version": 3
   },
   "file_extension": ".py",
   "mimetype": "text/x-python",
   "name": "python",
   "nbconvert_exporter": "python",
   "pygments_lexer": "ipython3",
   "version": "3.9.6"
  }
 },
 "nbformat": 4,
 "nbformat_minor": 5
}
