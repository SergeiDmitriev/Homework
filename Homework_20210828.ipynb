{
 "cells": [
  {
   "cell_type": "code",
   "execution_count": null,
   "id": "26480174",
   "metadata": {},
   "outputs": [],
   "source": [
    "# Все натуральные числа\n",
    "import re\n",
    "\n",
    "print(re.findall(r\"\\d+\", r\"gdfg 5djfg55 1.dfgbdfg25d\"))"
   ]
  },
  {
   "cell_type": "code",
   "execution_count": 5,
   "id": "3d553c79",
   "metadata": {},
   "outputs": [
    {
     "name": "stdout",
     "output_type": "stream",
     "text": [
      "['HELLO', 'M', 'EN']\n"
     ]
    }
   ],
   "source": [
    "# Все слова капсом\n",
    "import re\n",
    "\n",
    "print(re.findall(r\"[A-ZА-Я]+\", r\"HELLO My frENd\"))"
   ]
  },
  {
   "cell_type": "code",
   "execution_count": 21,
   "id": "6efd41e3",
   "metadata": {},
   "outputs": [
    {
     "name": "stdout",
     "output_type": "stream",
     "text": [
      "['HELлLO', 'frENdд2']\n"
     ]
    }
   ],
   "source": [
    "# Все слова с русскими буквами, а иногда и цифрами\n",
    "import re\n",
    "\n",
    "print(re.findall(r\"\\w+[а-я]\\d?\\w+\", r\"HELлLO My frENdд2\", flags=re.IGNORECASE))"
   ]
  },
  {
   "cell_type": "code",
   "execution_count": 12,
   "id": "d1cc7ee9",
   "metadata": {},
   "outputs": [
    {
     "name": "stdout",
     "output_type": "stream",
     "text": [
      "['HELLO', 'My', 'Друг']\n"
     ]
    }
   ],
   "source": [
    "# Все слова начинающиеся с русской или латинской большой буквы\n",
    "import re\n",
    "\n",
    "print(re.findall(r\"\\b[A-ZА-Я]+\\w+\\b\", r\"HELLO My frENd. Друг\"))"
   ]
  },
  {
   "cell_type": "code",
   "execution_count": 16,
   "id": "5a00045c",
   "metadata": {},
   "outputs": [
    {
     "name": "stdout",
     "output_type": "stream",
     "text": [
      "['Яблоко', 'апельсин', 'apple']\n"
     ]
    }
   ],
   "source": [
    "# Все слова начинающиеся на гласную\n",
    "import re\n",
    "\n",
    "print(re.findall(r\"\\b[ауоыиэяюёеaeiou]\\w+\", r\"Яблоко вишня апельсин гранат apple\", flags=re.IGNORECASE))"
   ]
  },
  {
   "cell_type": "code",
   "execution_count": 24,
   "id": "75df7be6",
   "metadata": {},
   "outputs": [
    {
     "name": "stdout",
     "output_type": "stream",
     "text": [
      "['11']\n"
     ]
    }
   ],
   "source": [
    "# Все натуральные числа, не находящиеся внутри или на границе слова\n",
    "import re\n",
    "\n",
    "print(re.findall(r\"\\b\\d+\\b\", r\"Ябл2око вишня1 апельсин гранат 11 apple\"))"
   ]
  },
  {
   "cell_type": "code",
   "execution_count": 30,
   "id": "8e834a9e",
   "metadata": {},
   "outputs": [
    {
     "name": "stdout",
     "output_type": "stream",
     "text": [
      "['а*пельсин гранат 1']\n"
     ]
    }
   ],
   "source": [
    "# Все строки с символом *\n",
    "import re\n",
    "\n",
    "print(re.findall(r\".+\\*.+\", r\"\"\"Ябл2око вишня1\n",
    "а*пельсин гранат 1\n",
    "1 apple\"\"\", flags=re.MULTILINE))"
   ]
  },
  {
   "cell_type": "code",
   "execution_count": 57,
   "id": "6d2a5193",
   "metadata": {},
   "outputs": [
    {
     "name": "stdout",
     "output_type": "stream",
     "text": [
      "['а*пельсин( гранат) 1']\n"
     ]
    }
   ],
   "source": [
    "# Все строки с ()\n",
    "import re\n",
    "\n",
    "print(re.findall(\".+?\\(+.+?\\)+.+\", r\"\"\"Ябл2око вишня1\n",
    "а*пельсин( гранат) 1\n",
    "1 apple\"\"\", flags=re.MULTILINE))"
   ]
  },
  {
   "cell_type": "code",
   "execution_count": 72,
   "id": "89fe6006",
   "metadata": {},
   "outputs": [
    {
     "name": "stdout",
     "output_type": "stream",
     "text": [
      "['  \\n', '']\n"
     ]
    }
   ],
   "source": [
    "# пустые строки\n",
    "import re\n",
    "\n",
    "print(re.findall(\"^\\s*$\", r\"\"\"Ябл2око вишня1\n",
    "а*пельсин( гранат) 1\n",
    "  \n",
    "\"\"\", flags=re.MULTILINE))"
   ]
  }
 ],
 "metadata": {
  "kernelspec": {
   "display_name": "Python 3 (ipykernel)",
   "language": "python",
   "name": "python3"
  },
  "language_info": {
   "codemirror_mode": {
    "name": "ipython",
    "version": 3
   },
   "file_extension": ".py",
   "mimetype": "text/x-python",
   "name": "python",
   "nbconvert_exporter": "python",
   "pygments_lexer": "ipython3",
   "version": "3.9.5"
  }
 },
 "nbformat": 4,
 "nbformat_minor": 5
}
