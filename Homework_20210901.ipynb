{
 "cells": [
  {
   "cell_type": "code",
   "execution_count": 12,
   "id": "c3ccc96d",
   "metadata": {},
   "outputs": [
    {
     "name": "stdout",
     "output_type": "stream",
     "text": [
      "база данных успешно создана!\n"
     ]
    }
   ],
   "source": [
    "import sqlite3\n",
    "\n",
    "db_file = 'test.db'\n",
    "\n",
    "try:\n",
    "    sqlite_connection = sqlite3.connect(db_file)\n",
    "    cursor = sqlite_connection.cursor()\n",
    "    print('база данных успешно создана!')\n",
    "\n",
    "except sqlite3.Error as error:\n",
    "    print('Ошибка подключения', error)\n",
    "\n",
    "command = \"\"\"\n",
    "    CREATE TABLE IF NOT EXISTS \"user\"(\n",
    "        id INTEGER PRIMARY KEY,\n",
    "        first_name VARCHAR(50) NOT NULL,\n",
    "        last_name VARCHAR(50) NOT NULL,\n",
    "        age INTEGER\n",
    "    );\n",
    "\"\"\"\n",
    "\n",
    "cursor.execute(command)\n",
    "\n",
    "command1 = \"\"\"\n",
    "    INSERT INTO \"user\"(first_name, last_name, age)\n",
    "    VALUES ('Sergei', 'Dmitriev', 28 ),\n",
    "    ('Alex', 'Vyazhevich', 15 ),\n",
    "    ('Tom', 'Redl', 19 ),\n",
    "    ('Sergei', 'Petrov', 17 ),\n",
    "    ('Petr', 'Kovalsky', 22 )    \n",
    "\"\"\"\n",
    "\n",
    "cursor.execute(command1)\n",
    "\n",
    "sqlite_connection.commit()"
   ]
  },
  {
   "cell_type": "code",
   "execution_count": 13,
   "id": "d6d9a336",
   "metadata": {},
   "outputs": [
    {
     "name": "stdout",
     "output_type": "stream",
     "text": [
      "[(1, 'Sergei', 'Dmitriev', 28), (4, 'Sergei', 'Petrov', 17)]\n"
     ]
    }
   ],
   "source": [
    "import sqlite3\n",
    "\n",
    "command = \"\"\"\n",
    "    SELECT * FROM \"user\"\n",
    "    WHERE first_name = ?\n",
    "\"\"\"\n",
    "\n",
    "name = \"Sergei\"\n",
    "with sqlite3.connect(db_file) as conn:\n",
    "    cur = conn.cursor()\n",
    "    result = cur.execute(command, [name])\n",
    "    \n",
    "    print(result.fetchall())"
   ]
  },
  {
   "cell_type": "code",
   "execution_count": 14,
   "id": "50c2dfee",
   "metadata": {},
   "outputs": [
    {
     "name": "stdout",
     "output_type": "stream",
     "text": [
      "[(2, 'Alex', 'Vyazhevich', 15), (3, 'Tom', 'Redl', 19), (4, 'Sergei', 'Petrov', 17), (5, 'Petr', 'Kovalsky', 22)]\n"
     ]
    }
   ],
   "source": [
    "import sqlite3\n",
    "\n",
    "command = \"\"\"\n",
    "    SELECT * FROM \"user\"\n",
    "    WHERE age < ?\n",
    "\"\"\"\n",
    "\n",
    "with sqlite3.connect(db_file) as conn:\n",
    "    cur = conn.cursor()\n",
    "    result = cur.execute(command, [25])\n",
    "    \n",
    "    print(result.fetchall())"
   ]
  },
  {
   "cell_type": "code",
   "execution_count": 15,
   "id": "22fd79c5",
   "metadata": {},
   "outputs": [
    {
     "name": "stdout",
     "output_type": "stream",
     "text": [
      "[(4, 'Sergei', 'Petrov', 17)]\n"
     ]
    }
   ],
   "source": [
    "import sqlite3\n",
    "\n",
    "command = \"\"\"\n",
    "    SELECT * FROM \"user\"\n",
    "    WHERE age < ?\n",
    "    AND age > ?\n",
    "\"\"\"\n",
    "\n",
    "with sqlite3.connect(db_file) as conn:\n",
    "    cur = conn.cursor()\n",
    "    result = cur.execute(command, [18, 15])\n",
    "    \n",
    "    print(result.fetchall())"
   ]
  }
 ],
 "metadata": {
  "kernelspec": {
   "display_name": "Python 3 (ipykernel)",
   "language": "python",
   "name": "python3"
  },
  "language_info": {
   "codemirror_mode": {
    "name": "ipython",
    "version": 3
   },
   "file_extension": ".py",
   "mimetype": "text/x-python",
   "name": "python",
   "nbconvert_exporter": "python",
   "pygments_lexer": "ipython3",
   "version": "3.9.5"
  }
 },
 "nbformat": 4,
 "nbformat_minor": 5
}
