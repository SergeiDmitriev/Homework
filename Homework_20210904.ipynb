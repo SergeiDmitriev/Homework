{
 "cells": [
  {
   "cell_type": "code",
   "execution_count": 12,
   "id": "c3ccc96d",
   "metadata": {},
   "outputs": [
    {
     "name": "stdout",
     "output_type": "stream",
     "text": [
      "2021-09-04 13:33:10,415 INFO sqlalchemy.engine.Engine BEGIN (implicit)\n",
      "2021-09-04 13:33:10,417 INFO sqlalchemy.engine.Engine PRAGMA main.table_info(\"user\")\n",
      "2021-09-04 13:33:10,418 INFO sqlalchemy.engine.Engine [raw sql] ()\n",
      "2021-09-04 13:33:10,422 INFO sqlalchemy.engine.Engine PRAGMA temp.table_info(\"user\")\n",
      "2021-09-04 13:33:10,423 INFO sqlalchemy.engine.Engine [raw sql] ()\n",
      "2021-09-04 13:33:10,426 INFO sqlalchemy.engine.Engine \n",
      "CREATE TABLE user (\n",
      "\tid INTEGER NOT NULL, \n",
      "\tfirst_name VARCHAR(50) NOT NULL, \n",
      "\tlast_name VARCHAR(50) NOT NULL, \n",
      "\tage INTEGER NOT NULL, \n",
      "\tPRIMARY KEY (id)\n",
      ")\n",
      "\n",
      "\n",
      "2021-09-04 13:33:10,429 INFO sqlalchemy.engine.Engine [no key 0.00297s] ()\n",
      "2021-09-04 13:33:10,442 INFO sqlalchemy.engine.Engine COMMIT\n"
     ]
    }
   ],
   "source": [
    "from datetime import datetime\n",
    "from sqlalchemy import create_engine\n",
    "\n",
    "engine = create_engine(\n",
    "    \"sqlite+pysqlite:///user.db\", \n",
    "    echo=True, \n",
    "    future=True\n",
    ")\n",
    "\n",
    "from sqlalchemy import (\n",
    "    Column, \n",
    "    Integer, \n",
    "    String,\n",
    "    DateTime,\n",
    "    ForeignKey,\n",
    ")\n",
    "from sqlalchemy.orm import declarative_base, relationship\n",
    "\n",
    "Base = declarative_base()\n",
    "\n",
    "class User(Base):\n",
    "    __tablename__ = \"user\"\n",
    "    \n",
    "    id = Column(Integer, primary_key=True)\n",
    "    first_name = Column(String(50), nullable=False)\n",
    "    last_name = Column(String(50), nullable=False)\n",
    "    age = Column(Integer, nullable=False)\n",
    "    \n",
    "    def __str__(self):\n",
    "        return f\"Customer <id:{self.id}, first_name:{self.first_name}, last_name:{self.last_name}, age:{self.age}>\"\n",
    "    \n",
    "Base.metadata.create_all(engine)"
   ]
  },
  {
   "cell_type": "code",
   "execution_count": 13,
   "id": "47221258",
   "metadata": {},
   "outputs": [
    {
     "name": "stdout",
     "output_type": "stream",
     "text": [
      "2021-09-04 13:33:14,092 INFO sqlalchemy.engine.Engine BEGIN (implicit)\n",
      "2021-09-04 13:33:14,096 INFO sqlalchemy.engine.Engine INSERT INTO user (first_name, last_name, age) VALUES (?, ?, ?)\n",
      "2021-09-04 13:33:14,099 INFO sqlalchemy.engine.Engine [generated in 0.00265s] ('Sergei', 'Dmitriev', '24')\n",
      "2021-09-04 13:33:14,104 INFO sqlalchemy.engine.Engine INSERT INTO user (first_name, last_name, age) VALUES (?, ?, ?)\n",
      "2021-09-04 13:33:14,106 INFO sqlalchemy.engine.Engine [cached since 0.009286s ago] ('Alex', 'Vyazhevich', '15')\n",
      "2021-09-04 13:33:14,108 INFO sqlalchemy.engine.Engine INSERT INTO user (first_name, last_name, age) VALUES (?, ?, ?)\n",
      "2021-09-04 13:33:14,113 INFO sqlalchemy.engine.Engine [cached since 0.01638s ago] ('Tom', 'Redl', '19')\n",
      "2021-09-04 13:33:14,123 INFO sqlalchemy.engine.Engine INSERT INTO user (first_name, last_name, age) VALUES (?, ?, ?)\n",
      "2021-09-04 13:33:14,130 INFO sqlalchemy.engine.Engine [cached since 0.03377s ago] ('Sergei', 'Petrov', '17')\n",
      "2021-09-04 13:33:14,133 INFO sqlalchemy.engine.Engine INSERT INTO user (first_name, last_name, age) VALUES (?, ?, ?)\n",
      "2021-09-04 13:33:14,135 INFO sqlalchemy.engine.Engine [cached since 0.03822s ago] ('Petr', 'Kovalsky', '22')\n",
      "2021-09-04 13:33:14,137 INFO sqlalchemy.engine.Engine COMMIT\n"
     ]
    }
   ],
   "source": [
    "# Создадим базовый класс для сессии\n",
    "from sqlalchemy.orm import sessionmaker\n",
    "\n",
    "\n",
    "Session = sessionmaker(engine)\n",
    "# создаем сессию\n",
    "with Session() as session:\n",
    "\n",
    "    users = [User(first_name=\"Sergei\", last_name=\"Dmitriev\", age=\"24\"),\n",
    "         User(first_name=\"Alex\", last_name=\"Vyazhevich\", age=\"15\"),\n",
    "         User(first_name=\"Tom\", last_name=\"Redl\", age=\"19\"),\n",
    "         User(first_name=\"Sergei\", last_name=\"Petrov\", age=\"17\"),\n",
    "         User(first_name=\"Petr\", last_name=\"Kovalsky\", age=\"22\")]\n",
    "\n",
    "    session.add_all(users)\n",
    "    session.commit()\n"
   ]
  },
  {
   "cell_type": "code",
   "execution_count": 14,
   "id": "d6d9a336",
   "metadata": {},
   "outputs": [
    {
     "name": "stdout",
     "output_type": "stream",
     "text": [
      "2021-09-04 13:33:18,214 INFO sqlalchemy.engine.Engine BEGIN (implicit)\n",
      "2021-09-04 13:33:18,223 INFO sqlalchemy.engine.Engine SELECT user.id AS user_id, user.first_name AS user_first_name, user.last_name AS user_last_name, user.age AS user_age \n",
      "FROM user \n",
      "WHERE user.first_name = ?\n",
      "2021-09-04 13:33:18,225 INFO sqlalchemy.engine.Engine [generated in 0.00224s] ('Sergei',)\n",
      "Customer <id:1, first_name:Sergei, last_name:Dmitriev, age:24>\n",
      "Customer <id:4, first_name:Sergei, last_name:Petrov, age:17>\n",
      "2021-09-04 13:33:18,232 INFO sqlalchemy.engine.Engine ROLLBACK\n"
     ]
    }
   ],
   "source": [
    "with Session() as session:\n",
    "    Sergei = session.query(User).filter(\n",
    "        User.first_name == \"Sergei\"\n",
    "    )\n",
    "    for a in Sergei.all():\n",
    "        print(a)"
   ]
  },
  {
   "cell_type": "code",
   "execution_count": 15,
   "id": "50c2dfee",
   "metadata": {},
   "outputs": [
    {
     "name": "stdout",
     "output_type": "stream",
     "text": [
      "2021-09-04 13:34:04,480 INFO sqlalchemy.engine.Engine BEGIN (implicit)\n",
      "2021-09-04 13:34:04,489 INFO sqlalchemy.engine.Engine SELECT user.id AS user_id, user.first_name AS user_first_name, user.last_name AS user_last_name, user.age AS user_age \n",
      "FROM user \n",
      "WHERE user.age < ?\n",
      "2021-09-04 13:34:04,491 INFO sqlalchemy.engine.Engine [generated in 0.00241s] (25,)\n",
      "Customer <id:1, first_name:Sergei, last_name:Dmitriev, age:24>\n",
      "Customer <id:2, first_name:Alex, last_name:Vyazhevich, age:15>\n",
      "Customer <id:3, first_name:Tom, last_name:Redl, age:19>\n",
      "Customer <id:4, first_name:Sergei, last_name:Petrov, age:17>\n",
      "Customer <id:5, first_name:Petr, last_name:Kovalsky, age:22>\n",
      "2021-09-04 13:34:04,497 INFO sqlalchemy.engine.Engine ROLLBACK\n"
     ]
    }
   ],
   "source": [
    "with Session() as session:\n",
    "    Sergei = session.query(User).filter(\n",
    "        User.age < 25\n",
    "    )\n",
    "    for a in Sergei.all():\n",
    "        print(a)"
   ]
  },
  {
   "cell_type": "code",
   "execution_count": 16,
   "id": "22fd79c5",
   "metadata": {},
   "outputs": [
    {
     "name": "stdout",
     "output_type": "stream",
     "text": [
      "2021-09-04 13:36:00,595 INFO sqlalchemy.engine.Engine BEGIN (implicit)\n",
      "2021-09-04 13:36:00,599 INFO sqlalchemy.engine.Engine SELECT user.id AS user_id, user.first_name AS user_first_name, user.last_name AS user_last_name, user.age AS user_age \n",
      "FROM user \n",
      "WHERE user.age BETWEEN ? AND ?\n",
      "2021-09-04 13:36:00,601 INFO sqlalchemy.engine.Engine [generated in 0.00218s] (18, 25)\n",
      "Customer <id:1, first_name:Sergei, last_name:Dmitriev, age:24>\n",
      "Customer <id:3, first_name:Tom, last_name:Redl, age:19>\n",
      "Customer <id:5, first_name:Petr, last_name:Kovalsky, age:22>\n",
      "2021-09-04 13:36:00,607 INFO sqlalchemy.engine.Engine ROLLBACK\n"
     ]
    }
   ],
   "source": [
    "with Session() as session:\n",
    "    Sergei = session.query(User).filter(\n",
    "        User.age.between(18, 25)\n",
    "    )\n",
    "    for a in Sergei.all():\n",
    "        print(a)"
   ]
  }
 ],
 "metadata": {
  "kernelspec": {
   "display_name": "Python 3 (ipykernel)",
   "language": "python",
   "name": "python3"
  },
  "language_info": {
   "codemirror_mode": {
    "name": "ipython",
    "version": 3
   },
   "file_extension": ".py",
   "mimetype": "text/x-python",
   "name": "python",
   "nbconvert_exporter": "python",
   "pygments_lexer": "ipython3",
   "version": "3.9.5"
  }
 },
 "nbformat": 4,
 "nbformat_minor": 5
}
